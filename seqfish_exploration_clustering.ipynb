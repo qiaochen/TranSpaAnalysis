{
 "cells": [
  {
   "cell_type": "code",
   "execution_count": null,
   "metadata": {},
   "outputs": [],
   "source": [
    "import anndata\n",
    "import torch\n",
    "import stPlus\n",
    "import os\n",
    "import random\n",
    "import warnings\n",
    "import pickle\n",
    "\n",
    "import squidpy as sq\n",
    "import numpy as np\n",
    "import scanpy as sc\n",
    "import pandas as pd\n",
    "import spatialdm as sdm\n",
    "\n",
    "from sklearn.model_selection import KFold\n",
    "from matplotlib import pyplot as plt\n",
    "from transpa.eval_util import calc_corr\n",
    "from transpa.util import expTransImp, leiden_cluster, compute_autocorr, plot_genes\n",
    "# from benchmark import SpaGE_impute, Tangram_impute\n",
    "from sklearn.metrics import adjusted_rand_score, adjusted_mutual_info_score, normalized_mutual_info_score, homogeneity_score\n",
    "from sklearn.cluster import AgglomerativeClustering\n",
    "from sklearn.preprocessing import StandardScaler\n",
    "from exp_spatialdm import spatialdm\n",
    "\n",
    "\n",
    "warnings.filterwarnings('ignore')\n",
    "pre_datapaths = [\"../../output/preprocessed_dataset/seqFISH_single_cell.pkl\",\n",
    "                 \"../../output/preprocessed_dataset/merfish_moffit.pkl\",\n",
    "                 \"../../output/preprocessed_dataset/osmFISH_allenvisp.pkl\",\n",
    "                 \"../../output/preprocessed_dataset/starmap_allenvisp.pkl\"\n",
    "                 ]\n",
    "\n",
    "seed = 10\n",
    "device = torch.device(\"cuda:0\") if torch.cuda.is_available() else torch.device(\"cpu\")"
   ]
  },
  {
   "cell_type": "code",
   "execution_count": 2,
   "metadata": {},
   "outputs": [],
   "source": [
    "pre_datapath = pre_datapaths[0]\n",
    "with open(pre_datapath, 'rb') as infile:\n",
    "    spa_adata, scrna_adata, raw_spatial_df, raw_scrna_df, raw_shared_gene = pickle.load(infile)\n",
    "    cls_key = 'leiden'\n",
    "    classes = scrna_adata.obs[cls_key]\n",
    "    ct_list = np.unique(classes)"
   ]
  },
  {
   "cell_type": "code",
   "execution_count": 3,
   "metadata": {},
   "outputs": [
    {
     "data": {
      "text/plain": [
       "AnnData object with n_obs × n_vars = 32844 × 29452\n",
       "    obs: 'cell', 'barcode', 'sample', 'pool', 'stage', 'sequencing.batch', 'theiler', 'doub.density', 'doublet', 'cluster', 'cluster.sub', 'cluster.stage', 'cluster.theiler', 'stripped', 'celltype', 'colour', 'sizeFactor', 'leiden'\n",
       "    var: 'ENSEMBL', 'SYMBOL', 'SymbolUniq', 'highly_variable', 'means', 'dispersions', 'dispersions_norm'\n",
       "    uns: 'log1p', 'hvg'"
      ]
     },
     "execution_count": 3,
     "metadata": {},
     "output_type": "execute_result"
    }
   ],
   "source": [
    "sc.pp.highly_variable_genes(scrna_adata, n_top_genes=3000)\n",
    "scrna_adata"
   ]
  },
  {
   "cell_type": "code",
   "execution_count": 4,
   "metadata": {
    "tags": []
   },
   "outputs": [],
   "source": [
    "# Filter small/tiny celltypes (# cells <= 10)\n",
    "# Find celltype specific genes\n",
    "tp, counts = np.unique(scrna_adata.obs.celltype, return_counts=True)\n",
    "sub_scrna_adata = scrna_adata[scrna_adata.obs.celltype.isin([_tp for _tp, _ct in zip(tp, counts) if _ct > 10]),scrna_adata.var['highly_variable']]\n",
    "sc.tl.rank_genes_groups(sub_scrna_adata, 'celltype', method='wilcoxon')\n",
    "sc.tl.filter_rank_genes_groups(sub_scrna_adata, min_fold_change=2)"
   ]
  },
  {
   "cell_type": "code",
   "execution_count": 5,
   "metadata": {
    "tags": []
   },
   "outputs": [
    {
     "name": "stdout",
     "output_type": "stream",
     "text": [
      "# unique sc celltype marker genes: 363\n"
     ]
    }
   ],
   "source": [
    "# Fetch the top 30 scored celltype marker genes\n",
    "top_k = 30\n",
    "candidate_genes = set()\n",
    "for i in range(top_k):\n",
    "    for g in sub_scrna_adata.uns['rank_genes_groups_filtered']['names'][i]:\n",
    "        if type(g) != str: continue\n",
    "        candidate_genes.add(g)\n",
    "print(f\"# unique sc celltype marker genes: {len(candidate_genes)}\")"
   ]
  },
  {
   "cell_type": "code",
   "execution_count": 6,
   "metadata": {
    "tags": []
   },
   "outputs": [
    {
     "name": "stdout",
     "output_type": "stream",
     "text": [
      "# extra genes not in Spa ST: 217\n"
     ]
    }
   ],
   "source": [
    "extra_genes = np.setdiff1d(list(candidate_genes), raw_shared_gene)\n",
    "print(f'# extra genes not in Spa ST: {len(extra_genes)}')"
   ]
  },
  {
   "cell_type": "code",
   "execution_count": 7,
   "metadata": {},
   "outputs": [
    {
     "name": "stderr",
     "output_type": "stream",
     "text": [
      "[TransImp] Epoch: 2000/2000, loss: 0.781017, (IMP) 0.781017: 100%|██████████| 2000/2000 [00:30<00:00, 65.41it/s]\n"
     ]
    }
   ],
   "source": [
    "from sklearn.neighbors import NearestNeighbors\n",
    "from sklearn.metrics.pairwise import cosine_similarity\n",
    "res = expTransImp(\n",
    "        df_ref=raw_scrna_df,\n",
    "        df_tgt=raw_spatial_df,\n",
    "        train_gene=raw_shared_gene,\n",
    "        test_gene=np.concatenate([raw_shared_gene, extra_genes]),\n",
    "        n_simulation=200,\n",
    "        signature_mode='cell',\n",
    "        mapping_mode='lowrank',\n",
    "        classes=classes,\n",
    "        n_epochs=2000,\n",
    "        seed=seed,\n",
    "        device=device)"
   ]
  },
  {
   "cell_type": "code",
   "execution_count": 8,
   "metadata": {},
   "outputs": [
    {
     "data": {
      "text/plain": [
       "AnnData object with n_obs × n_vars = 57536 × 351\n",
       "    obs: 'uniqueID', 'embryo', 'pos', 'z', 'x_global', 'y_global', 'x_global_affine', 'y_global_affine', 'embryo_pos', 'embryo_pos_z', 'Area', 'UMAP1', 'UMAP2', 'celltype_mapped_refined', 'segmentation_vertices_x_global_affine', 'segmentation_vertices_y_global_affine'\n",
       "    uns: 'log1p', 'spatial_neighbors'\n",
       "    obsm: 'spatial'\n",
       "    layers: 'normalized'\n",
       "    obsp: 'spatial_connectivities', 'spatial_distances'"
      ]
     },
     "execution_count": 8,
     "metadata": {},
     "output_type": "execute_result"
    }
   ],
   "source": [
    "spa_adata"
   ]
  },
  {
   "cell_type": "code",
   "execution_count": 9,
   "metadata": {
    "tags": []
   },
   "outputs": [],
   "source": [
    "# Spatial cluster: AgglomerativeClustering + spatial constrain\n",
    "n_clusters = len(spa_adata.obs.celltype_mapped_refined.unique())\n",
    "def spatial_cluster(expr, prefix):\n",
    "    spa_cluster_metrics = {}\n",
    "    pred_clss = AgglomerativeClustering(n_clusters=n_clusters, \n",
    "                                        connectivity=spa_adata.obsp['spatial_connectivities'],\n",
    "                                        ).fit_predict(expr)\n",
    "    ars = adjusted_rand_score(spa_adata.obs.celltype_mapped_refined, pred_clss)\n",
    "    amis = adjusted_mutual_info_score(spa_adata.obs.celltype_mapped_refined, pred_clss)\n",
    "    homo = homogeneity_score(spa_adata.obs.celltype_mapped_refined, pred_clss)\n",
    "    nmi = normalized_mutual_info_score(spa_adata.obs.celltype_mapped_refined, pred_clss)\n",
    "    spa_cluster_metrics[prefix] = {\"ARS\":ars, \"AMIS\":amis, 'HOMO': homo, 'NMI':nmi}\n",
    "    return pd.DataFrame(spa_cluster_metrics)"
   ]
  },
  {
   "cell_type": "code",
   "execution_count": 10,
   "metadata": {
    "tags": []
   },
   "outputs": [
    {
     "data": {
      "text/plain": [
       "363"
      ]
     },
     "execution_count": 10,
     "metadata": {},
     "output_type": "execute_result"
    }
   ],
   "source": [
    "# column mask for select sc marker genes\n",
    "candidate_msk = [True  if g in candidate_genes else False for g in np.concatenate([raw_shared_gene, extra_genes])]\n",
    "np.sum(candidate_msk)"
   ]
  },
  {
   "cell_type": "code",
   "execution_count": 11,
   "metadata": {
    "tags": []
   },
   "outputs": [
    {
     "data": {
      "text/html": [
       "<div>\n",
       "<style scoped>\n",
       "    .dataframe tbody tr th:only-of-type {\n",
       "        vertical-align: middle;\n",
       "    }\n",
       "\n",
       "    .dataframe tbody tr th {\n",
       "        vertical-align: top;\n",
       "    }\n",
       "\n",
       "    .dataframe thead th {\n",
       "        text-align: right;\n",
       "    }\n",
       "</style>\n",
       "<table border=\"1\" class=\"dataframe\">\n",
       "  <thead>\n",
       "    <tr style=\"text-align: right;\">\n",
       "      <th></th>\n",
       "      <th>SeqFISH_Raw (351) vs Ground.Annotation</th>\n",
       "      <th>SCImputedMarkers (363) vs Ground.Annotation</th>\n",
       "      <th>SCImputedAll (568) vs Ground.Annotation</th>\n",
       "      <th>SCImputedTopConfident (500) vs Ground.Annotation</th>\n",
       "      <th>SCImputedTopConfident (400) vs Ground.Annotation</th>\n",
       "      <th>SCImputedTopConfident (300) vs Ground.Annotation</th>\n",
       "      <th>SCImputedTopConfident (200) vs Ground.Annotation</th>\n",
       "      <th>SCImputedTopConfident (100) vs Ground.Annotation</th>\n",
       "      <th>SCImputedTopConfident (50) vs Ground.Annotation</th>\n",
       "    </tr>\n",
       "  </thead>\n",
       "  <tbody>\n",
       "    <tr>\n",
       "      <th>AMIS</th>\n",
       "      <td>0.339416</td>\n",
       "      <td>0.345860</td>\n",
       "      <td>0.336304</td>\n",
       "      <td>0.345257</td>\n",
       "      <td>0.347428</td>\n",
       "      <td>0.353080</td>\n",
       "      <td>0.343398</td>\n",
       "      <td>0.326686</td>\n",
       "      <td>0.306348</td>\n",
       "    </tr>\n",
       "    <tr>\n",
       "      <th>ARS</th>\n",
       "      <td>0.183854</td>\n",
       "      <td>0.328984</td>\n",
       "      <td>0.324906</td>\n",
       "      <td>0.333656</td>\n",
       "      <td>0.346293</td>\n",
       "      <td>0.353473</td>\n",
       "      <td>0.341988</td>\n",
       "      <td>0.311472</td>\n",
       "      <td>0.248058</td>\n",
       "    </tr>\n",
       "    <tr>\n",
       "      <th>HOMO</th>\n",
       "      <td>0.350695</td>\n",
       "      <td>0.329384</td>\n",
       "      <td>0.324979</td>\n",
       "      <td>0.333307</td>\n",
       "      <td>0.335329</td>\n",
       "      <td>0.345384</td>\n",
       "      <td>0.334060</td>\n",
       "      <td>0.307818</td>\n",
       "      <td>0.269785</td>\n",
       "    </tr>\n",
       "    <tr>\n",
       "      <th>NMI</th>\n",
       "      <td>0.340482</td>\n",
       "      <td>0.347003</td>\n",
       "      <td>0.337451</td>\n",
       "      <td>0.346389</td>\n",
       "      <td>0.348556</td>\n",
       "      <td>0.354185</td>\n",
       "      <td>0.344524</td>\n",
       "      <td>0.327882</td>\n",
       "      <td>0.307635</td>\n",
       "    </tr>\n",
       "  </tbody>\n",
       "</table>\n",
       "</div>"
      ],
      "text/plain": [
       "      SeqFISH_Raw (351) vs Ground.Annotation  \\\n",
       "AMIS                                0.339416   \n",
       "ARS                                 0.183854   \n",
       "HOMO                                0.350695   \n",
       "NMI                                 0.340482   \n",
       "\n",
       "      SCImputedMarkers (363) vs Ground.Annotation  \\\n",
       "AMIS                                     0.345860   \n",
       "ARS                                      0.328984   \n",
       "HOMO                                     0.329384   \n",
       "NMI                                      0.347003   \n",
       "\n",
       "      SCImputedAll (568) vs Ground.Annotation  \\\n",
       "AMIS                                 0.336304   \n",
       "ARS                                  0.324906   \n",
       "HOMO                                 0.324979   \n",
       "NMI                                  0.337451   \n",
       "\n",
       "      SCImputedTopConfident (500) vs Ground.Annotation  \\\n",
       "AMIS                                          0.345257   \n",
       "ARS                                           0.333656   \n",
       "HOMO                                          0.333307   \n",
       "NMI                                           0.346389   \n",
       "\n",
       "      SCImputedTopConfident (400) vs Ground.Annotation  \\\n",
       "AMIS                                          0.347428   \n",
       "ARS                                           0.346293   \n",
       "HOMO                                          0.335329   \n",
       "NMI                                           0.348556   \n",
       "\n",
       "      SCImputedTopConfident (300) vs Ground.Annotation  \\\n",
       "AMIS                                          0.353080   \n",
       "ARS                                           0.353473   \n",
       "HOMO                                          0.345384   \n",
       "NMI                                           0.354185   \n",
       "\n",
       "      SCImputedTopConfident (200) vs Ground.Annotation  \\\n",
       "AMIS                                          0.343398   \n",
       "ARS                                           0.341988   \n",
       "HOMO                                          0.334060   \n",
       "NMI                                           0.344524   \n",
       "\n",
       "      SCImputedTopConfident (100) vs Ground.Annotation  \\\n",
       "AMIS                                          0.326686   \n",
       "ARS                                           0.311472   \n",
       "HOMO                                          0.307818   \n",
       "NMI                                           0.327882   \n",
       "\n",
       "      SCImputedTopConfident (50) vs Ground.Annotation  \n",
       "AMIS                                         0.306348  \n",
       "ARS                                          0.248058  \n",
       "HOMO                                         0.269785  \n",
       "NMI                                          0.307635  "
      ]
     },
     "execution_count": 11,
     "metadata": {},
     "output_type": "execute_result"
    }
   ],
   "source": [
    "\"\"\"\n",
    "Spatial clustering on \n",
    "1. seqFISH raw ST data (351 genes)\n",
    "2. imputed sc celltype marker genes (top 30, 363 genes = 217 extra + 46 overlapped imputed)\n",
    "3-6. imputed genes selected by prediction confidence scores, top 500, 400, 300, 200, 100, 50\n",
    "\n",
    "Return averaged clustering scores against manual annotations `celltype_mapped_refined` in spa_adata.obs\n",
    "\"\"\"\n",
    "df_cls = spatial_cluster(spa_adata.X.toarray(), \"SeqFISH_Raw (351) vs Ground.Annotation\")\n",
    "df_cls = pd.concat([df_cls, spatial_cluster(res[0][:, candidate_msk], f\"SCImputedMarkers ({len(candidate_genes)}) vs Ground.Annotation\")], axis=1)\n",
    "df_cls = pd.concat([df_cls, spatial_cluster(res[0], f\"SCImputedAll ({len(candidate_msk)}) vs Ground.Annotation\")], axis=1)\n",
    "df_cls = pd.concat([df_cls, spatial_cluster(res[0][:, np.argsort(res[1])[:500]], \"SCImputedTopConfident (500) vs Ground.Annotation\")], axis=1)\n",
    "df_cls = pd.concat([df_cls, spatial_cluster(res[0][:, np.argsort(res[1])[:400]], \"SCImputedTopConfident (400) vs Ground.Annotation\")], axis=1)\n",
    "df_cls = pd.concat([df_cls, spatial_cluster(res[0][:, np.argsort(res[1])[:300]], \"SCImputedTopConfident (300) vs Ground.Annotation\")], axis=1)\n",
    "df_cls = pd.concat([df_cls, spatial_cluster(res[0][:, np.argsort(res[1])[:200]], \"SCImputedTopConfident (200) vs Ground.Annotation\")], axis=1)\n",
    "df_cls = pd.concat([df_cls, spatial_cluster(res[0][:, np.argsort(res[1])[:100]], \"SCImputedTopConfident (100) vs Ground.Annotation\")], axis=1)\n",
    "df_cls = pd.concat([df_cls, spatial_cluster(res[0][:, np.argsort(res[1])[:50]], \"SCImputedTopConfident (50) vs Ground.Annotation\")], axis=1)\n",
    "df_cls"
   ]
  },
  {
   "cell_type": "code",
   "execution_count": 12,
   "metadata": {
    "tags": []
   },
   "outputs": [
    {
     "data": {
      "text/plain": [
       "SeqFISH_Raw (351) vs Ground.Annotation              0.303612\n",
       "SCImputedMarkers (363) vs Ground.Annotation         0.337808\n",
       "SCImputedAll (568) vs Ground.Annotation             0.330910\n",
       "SCImputedTopConfident (500) vs Ground.Annotation    0.339652\n",
       "SCImputedTopConfident (400) vs Ground.Annotation    0.344402\n",
       "SCImputedTopConfident (300) vs Ground.Annotation    0.351530\n",
       "SCImputedTopConfident (200) vs Ground.Annotation    0.340993\n",
       "SCImputedTopConfident (100) vs Ground.Annotation    0.318464\n",
       "SCImputedTopConfident (50) vs Ground.Annotation     0.282956\n",
       "dtype: float64"
      ]
     },
     "execution_count": 12,
     "metadata": {},
     "output_type": "execute_result"
    }
   ],
   "source": [
    "df_cls.mean()"
   ]
  },
  {
   "cell_type": "code",
   "execution_count": 14,
   "metadata": {
    "tags": []
   },
   "outputs": [],
   "source": [
    "df_cls.index.name = 'metric'\n",
    "df_cls.to_csv(\"../../output/segfish_cluster_with_extra_genes_top30.csv\")"
   ]
  },
  {
   "cell_type": "code",
   "execution_count": null,
   "metadata": {
    "tags": []
   },
   "outputs": [],
   "source": []
  }
 ],
 "metadata": {
  "kernelspec": {
   "display_name": "Python 3 (ipykernel)",
   "language": "python",
   "name": "python3"
  },
  "language_info": {
   "codemirror_mode": {
    "name": "ipython",
    "version": 3
   },
   "file_extension": ".py",
   "mimetype": "text/x-python",
   "name": "python",
   "nbconvert_exporter": "python",
   "pygments_lexer": "ipython3",
   "version": "3.11.6"
  }
 },
 "nbformat": 4,
 "nbformat_minor": 4
}
