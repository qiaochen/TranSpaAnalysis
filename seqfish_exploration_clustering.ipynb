{
 "cells": [
  {
   "cell_type": "code",
   "execution_count": 1,
   "metadata": {},
   "outputs": [
    {
     "name": "stderr",
     "output_type": "stream",
     "text": [
      "/illumina/scratch/deep_learning/cqiao/softwares/anaconda/envs/py311/lib/python3.11/site-packages/torch/__init__.py:690: UserWarning: torch.set_default_tensor_type() is deprecated as of PyTorch 2.1, please use torch.set_default_dtype() and torch.set_default_device() as alternatives. (Triggered internally at /opt/conda/conda-bld/pytorch_1704987615470/work/torch/csrc/tensor/python_tensor.cpp:451.)\n",
      "  _C._set_default_tensor_type(t)\n"
     ]
    }
   ],
   "source": [
    "import anndata\n",
    "import torch\n",
    "import stPlus\n",
    "import os\n",
    "import random\n",
    "import warnings\n",
    "import pickle\n",
    "\n",
    "import squidpy as sq\n",
    "import numpy as np\n",
    "import scanpy as sc\n",
    "import pandas as pd\n",
    "import spatialdm as sdm\n",
    "\n",
    "from sklearn.model_selection import KFold\n",
    "from matplotlib import pyplot as plt\n",
    "from transpa.eval_util import calc_corr\n",
    "from transpa.util import expTransImp, leiden_cluster, compute_autocorr, plot_genes\n",
    "# from benchmark import SpaGE_impute, Tangram_impute\n",
    "from sklearn.metrics import adjusted_rand_score, adjusted_mutual_info_score, normalized_mutual_info_score, homogeneity_score\n",
    "from sklearn.cluster import AgglomerativeClustering\n",
    "from sklearn.preprocessing import StandardScaler\n",
    "from exp_spatialdm import spatialdm\n",
    "\n",
    "\n",
    "warnings.filterwarnings('ignore')\n",
    "pre_datapaths = [\"../../output/preprocessed_dataset/seqFISH_single_cell.pkl\",\n",
    "                 \"../../output/preprocessed_dataset/merfish_moffit.pkl\",\n",
    "                 \"../../output/preprocessed_dataset/osmFISH_allenvisp.pkl\",\n",
    "                 \"../../output/preprocessed_dataset/starmap_allenvisp.pkl\"\n",
    "                 ]\n",
    "\n",
    "seed = 10\n",
    "device = torch.device(\"cuda:0\") if torch.cuda.is_available() else torch.device(\"cpu\")"
   ]
  },
  {
   "cell_type": "code",
   "execution_count": 2,
   "metadata": {},
   "outputs": [],
   "source": [
    "pre_datapath = pre_datapaths[0]\n",
    "with open(pre_datapath, 'rb') as infile:\n",
    "    spa_adata, scrna_adata, raw_spatial_df, raw_scrna_df, raw_shared_gene = pickle.load(infile)\n",
    "    cls_key = 'leiden'\n",
    "    classes = scrna_adata.obs[cls_key]\n",
    "    ct_list = np.unique(classes)"
   ]
  },
  {
   "cell_type": "code",
   "execution_count": 3,
   "metadata": {},
   "outputs": [
    {
     "data": {
      "text/plain": [
       "AnnData object with n_obs × n_vars = 32844 × 29452\n",
       "    obs: 'cell', 'barcode', 'sample', 'pool', 'stage', 'sequencing.batch', 'theiler', 'doub.density', 'doublet', 'cluster', 'cluster.sub', 'cluster.stage', 'cluster.theiler', 'stripped', 'celltype', 'colour', 'sizeFactor', 'leiden'\n",
       "    var: 'ENSEMBL', 'SYMBOL', 'SymbolUniq', 'highly_variable', 'means', 'dispersions', 'dispersions_norm'\n",
       "    uns: 'log1p', 'hvg'"
      ]
     },
     "execution_count": 3,
     "metadata": {},
     "output_type": "execute_result"
    }
   ],
   "source": [
    "sc.pp.highly_variable_genes(scrna_adata, n_top_genes=3000)\n",
    "scrna_adata"
   ]
  },
  {
   "cell_type": "code",
   "execution_count": 4,
   "metadata": {
    "tags": []
   },
   "outputs": [],
   "source": [
    "# Filter small/tiny celltypes (# cells <= 200)\n",
    "# Find celltype specific genes\n",
    "tp, counts = np.unique(scrna_adata.obs.celltype, return_counts=True)\n",
    "sub_scrna_adata = scrna_adata[scrna_adata.obs.celltype.isin([_tp for _tp, _ct in zip(tp, counts) if _ct > 200]),scrna_adata.var['highly_variable']]\n",
    "sc.tl.rank_genes_groups(sub_scrna_adata, 'celltype', method='wilcoxon')\n",
    "sc.tl.filter_rank_genes_groups(sub_scrna_adata, min_fold_change=2)"
   ]
  },
  {
   "cell_type": "code",
   "execution_count": 5,
   "metadata": {
    "tags": []
   },
   "outputs": [
    {
     "name": "stdout",
     "output_type": "stream",
     "text": [
      "# unique sc celltype marker genes: 422\n"
     ]
    }
   ],
   "source": [
    "# Fetch the top 50 scored celltype marker genes\n",
    "top_k = 50\n",
    "candidate_genes = set()\n",
    "for i in range(top_k):\n",
    "    for g in sub_scrna_adata.uns['rank_genes_groups_filtered']['names'][i]:\n",
    "        if type(g) != str: continue\n",
    "        candidate_genes.add(g)\n",
    "print(f\"# unique sc celltype marker genes: {len(candidate_genes)}\")"
   ]
  },
  {
   "cell_type": "code",
   "execution_count": 6,
   "metadata": {
    "tags": []
   },
   "outputs": [
    {
     "name": "stdout",
     "output_type": "stream",
     "text": [
      "# extra genes not in Spa ST: 267\n"
     ]
    }
   ],
   "source": [
    "extra_genes = np.setdiff1d(list(candidate_genes), raw_shared_gene)\n",
    "print(f'# extra genes not in Spa ST: {len(extra_genes)}')"
   ]
  },
  {
   "cell_type": "code",
   "execution_count": 7,
   "metadata": {},
   "outputs": [
    {
     "name": "stderr",
     "output_type": "stream",
     "text": [
      "[TransImp] Epoch: 2000/2000, loss: 0.781017, (IMP) 0.781017: 100%|██████████| 2000/2000 [00:30<00:00, 65.33it/s]\n"
     ]
    }
   ],
   "source": [
    "from sklearn.neighbors import NearestNeighbors\n",
    "from sklearn.metrics.pairwise import cosine_similarity\n",
    "res = expTransImp(\n",
    "        df_ref=raw_scrna_df,\n",
    "        df_tgt=raw_spatial_df,\n",
    "        train_gene=raw_shared_gene,\n",
    "        test_gene=np.concatenate([raw_shared_gene, extra_genes]),\n",
    "        n_simulation=200,\n",
    "        signature_mode='cell',\n",
    "        mapping_mode='lowrank',\n",
    "        classes=classes,\n",
    "        n_epochs=2000,\n",
    "        seed=seed,\n",
    "        device=device)"
   ]
  },
  {
   "cell_type": "code",
   "execution_count": 8,
   "metadata": {},
   "outputs": [
    {
     "data": {
      "text/plain": [
       "AnnData object with n_obs × n_vars = 57536 × 351\n",
       "    obs: 'uniqueID', 'embryo', 'pos', 'z', 'x_global', 'y_global', 'x_global_affine', 'y_global_affine', 'embryo_pos', 'embryo_pos_z', 'Area', 'UMAP1', 'UMAP2', 'celltype_mapped_refined', 'segmentation_vertices_x_global_affine', 'segmentation_vertices_y_global_affine'\n",
       "    uns: 'log1p', 'spatial_neighbors'\n",
       "    obsm: 'spatial'\n",
       "    layers: 'normalized'\n",
       "    obsp: 'spatial_connectivities', 'spatial_distances'"
      ]
     },
     "execution_count": 8,
     "metadata": {},
     "output_type": "execute_result"
    }
   ],
   "source": [
    "spa_adata"
   ]
  },
  {
   "cell_type": "code",
   "execution_count": 9,
   "metadata": {
    "tags": []
   },
   "outputs": [],
   "source": [
    "# Spatial cluster: AgglomerativeClustering + spatial constrain\n",
    "n_clusters = len(spa_adata.obs.celltype_mapped_refined.unique())\n",
    "def spatial_cluster(expr, prefix):\n",
    "    spa_cluster_metrics = {}\n",
    "    pred_clss = AgglomerativeClustering(n_clusters=n_clusters, \n",
    "                                        connectivity=spa_adata.obsp['spatial_connectivities'],\n",
    "                                        ).fit_predict(expr)\n",
    "    ars = adjusted_rand_score(spa_adata.obs.celltype_mapped_refined, pred_clss)\n",
    "    amis = adjusted_mutual_info_score(spa_adata.obs.celltype_mapped_refined, pred_clss)\n",
    "    homo = homogeneity_score(spa_adata.obs.celltype_mapped_refined, pred_clss)\n",
    "    nmi = normalized_mutual_info_score(spa_adata.obs.celltype_mapped_refined, pred_clss)\n",
    "    spa_cluster_metrics[prefix] = {\"ARS\":ars, \"AMIS\":amis, 'HOMO': homo, 'NMI':nmi}\n",
    "    return pd.DataFrame(spa_cluster_metrics)"
   ]
  },
  {
   "cell_type": "code",
   "execution_count": 10,
   "metadata": {
    "tags": []
   },
   "outputs": [
    {
     "data": {
      "text/plain": [
       "422"
      ]
     },
     "execution_count": 10,
     "metadata": {},
     "output_type": "execute_result"
    }
   ],
   "source": [
    "# column mask for select sc marker genes\n",
    "candidate_msk = [True  if g in candidate_genes else False for g in np.concatenate([raw_shared_gene, extra_genes])]\n",
    "np.sum(candidate_msk)"
   ]
  },
  {
   "cell_type": "code",
   "execution_count": 11,
   "metadata": {
    "tags": []
   },
   "outputs": [
    {
     "data": {
      "text/html": [
       "<div>\n",
       "<style scoped>\n",
       "    .dataframe tbody tr th:only-of-type {\n",
       "        vertical-align: middle;\n",
       "    }\n",
       "\n",
       "    .dataframe tbody tr th {\n",
       "        vertical-align: top;\n",
       "    }\n",
       "\n",
       "    .dataframe thead th {\n",
       "        text-align: right;\n",
       "    }\n",
       "</style>\n",
       "<table border=\"1\" class=\"dataframe\">\n",
       "  <thead>\n",
       "    <tr style=\"text-align: right;\">\n",
       "      <th></th>\n",
       "      <th>SeqFISH_Raw (351) vs Ground.Annotation</th>\n",
       "      <th>SCImputedMarkers (422) vs Ground.Annotation</th>\n",
       "      <th>SCImputedAll (618) vs Ground.Annotation</th>\n",
       "      <th>SCImputedTopConfident (600) vs Ground.Annotation</th>\n",
       "      <th>SCImputedTopConfident (500) vs Ground.Annotation</th>\n",
       "      <th>SCImputedTopConfident (400) vs Ground.Annotation</th>\n",
       "      <th>SCImputedTopConfident (300) vs Ground.Annotation</th>\n",
       "      <th>SCImputedTopConfident (200) vs Ground.Annotation</th>\n",
       "      <th>SCImputedTopConfident (100) vs Ground.Annotation</th>\n",
       "      <th>SCImputedTopConfident (50) vs Ground.Annotation</th>\n",
       "    </tr>\n",
       "  </thead>\n",
       "  <tbody>\n",
       "    <tr>\n",
       "      <th>AMIS</th>\n",
       "      <td>0.339416</td>\n",
       "      <td>0.342975</td>\n",
       "      <td>0.343578</td>\n",
       "      <td>0.343578</td>\n",
       "      <td>0.347258</td>\n",
       "      <td>0.348164</td>\n",
       "      <td>0.346621</td>\n",
       "      <td>0.344788</td>\n",
       "      <td>0.324350</td>\n",
       "      <td>0.305074</td>\n",
       "    </tr>\n",
       "    <tr>\n",
       "      <th>ARS</th>\n",
       "      <td>0.183854</td>\n",
       "      <td>0.298666</td>\n",
       "      <td>0.332807</td>\n",
       "      <td>0.332807</td>\n",
       "      <td>0.344139</td>\n",
       "      <td>0.331952</td>\n",
       "      <td>0.328118</td>\n",
       "      <td>0.327552</td>\n",
       "      <td>0.202472</td>\n",
       "      <td>0.192753</td>\n",
       "    </tr>\n",
       "    <tr>\n",
       "      <th>HOMO</th>\n",
       "      <td>0.350695</td>\n",
       "      <td>0.331197</td>\n",
       "      <td>0.331486</td>\n",
       "      <td>0.331486</td>\n",
       "      <td>0.339157</td>\n",
       "      <td>0.332940</td>\n",
       "      <td>0.331119</td>\n",
       "      <td>0.327599</td>\n",
       "      <td>0.308563</td>\n",
       "      <td>0.281735</td>\n",
       "    </tr>\n",
       "    <tr>\n",
       "      <th>NMI</th>\n",
       "      <td>0.340482</td>\n",
       "      <td>0.344110</td>\n",
       "      <td>0.344714</td>\n",
       "      <td>0.344714</td>\n",
       "      <td>0.348374</td>\n",
       "      <td>0.349302</td>\n",
       "      <td>0.347763</td>\n",
       "      <td>0.345940</td>\n",
       "      <td>0.325529</td>\n",
       "      <td>0.306308</td>\n",
       "    </tr>\n",
       "  </tbody>\n",
       "</table>\n",
       "</div>"
      ],
      "text/plain": [
       "      SeqFISH_Raw (351) vs Ground.Annotation  \\\n",
       "AMIS                                0.339416   \n",
       "ARS                                 0.183854   \n",
       "HOMO                                0.350695   \n",
       "NMI                                 0.340482   \n",
       "\n",
       "      SCImputedMarkers (422) vs Ground.Annotation  \\\n",
       "AMIS                                     0.342975   \n",
       "ARS                                      0.298666   \n",
       "HOMO                                     0.331197   \n",
       "NMI                                      0.344110   \n",
       "\n",
       "      SCImputedAll (618) vs Ground.Annotation  \\\n",
       "AMIS                                 0.343578   \n",
       "ARS                                  0.332807   \n",
       "HOMO                                 0.331486   \n",
       "NMI                                  0.344714   \n",
       "\n",
       "      SCImputedTopConfident (600) vs Ground.Annotation  \\\n",
       "AMIS                                          0.343578   \n",
       "ARS                                           0.332807   \n",
       "HOMO                                          0.331486   \n",
       "NMI                                           0.344714   \n",
       "\n",
       "      SCImputedTopConfident (500) vs Ground.Annotation  \\\n",
       "AMIS                                          0.347258   \n",
       "ARS                                           0.344139   \n",
       "HOMO                                          0.339157   \n",
       "NMI                                           0.348374   \n",
       "\n",
       "      SCImputedTopConfident (400) vs Ground.Annotation  \\\n",
       "AMIS                                          0.348164   \n",
       "ARS                                           0.331952   \n",
       "HOMO                                          0.332940   \n",
       "NMI                                           0.349302   \n",
       "\n",
       "      SCImputedTopConfident (300) vs Ground.Annotation  \\\n",
       "AMIS                                          0.346621   \n",
       "ARS                                           0.328118   \n",
       "HOMO                                          0.331119   \n",
       "NMI                                           0.347763   \n",
       "\n",
       "      SCImputedTopConfident (200) vs Ground.Annotation  \\\n",
       "AMIS                                          0.344788   \n",
       "ARS                                           0.327552   \n",
       "HOMO                                          0.327599   \n",
       "NMI                                           0.345940   \n",
       "\n",
       "      SCImputedTopConfident (100) vs Ground.Annotation  \\\n",
       "AMIS                                          0.324350   \n",
       "ARS                                           0.202472   \n",
       "HOMO                                          0.308563   \n",
       "NMI                                           0.325529   \n",
       "\n",
       "      SCImputedTopConfident (50) vs Ground.Annotation  \n",
       "AMIS                                         0.305074  \n",
       "ARS                                          0.192753  \n",
       "HOMO                                         0.281735  \n",
       "NMI                                          0.306308  "
      ]
     },
     "execution_count": 11,
     "metadata": {},
     "output_type": "execute_result"
    }
   ],
   "source": [
    "\"\"\"\n",
    "Spatial clustering on \n",
    "1. seqFISH raw ST data (351 genes)\n",
    "2. imputed sc celltype marker genes (top 50, 335 genes = 63 extra + 50 overlapped imputed)\n",
    "3-6. imputed genes selected by prediction confidence scores, top 400, 300, 200, 100\n",
    "\n",
    "Return averaged clustering scores against manual annotations `celltype_mapped_refined` in spa_adata.obs\n",
    "\"\"\"\n",
    "df_cls = spatial_cluster(spa_adata.X.toarray(), \"SeqFISH_Raw (351) vs Ground.Annotation\")\n",
    "df_cls = pd.concat([df_cls, spatial_cluster(res[0][:, candidate_msk], f\"SCImputedMarkers ({len(candidate_genes)}) vs Ground.Annotation\")], axis=1)\n",
    "df_cls = pd.concat([df_cls, spatial_cluster(res[0], f\"SCImputedAll ({len(candidate_msk)}) vs Ground.Annotation\")], axis=1)\n",
    "df_cls = pd.concat([df_cls, spatial_cluster(res[0][:, np.argsort(res[1])[:600]], \"SCImputedTopConfident (600) vs Ground.Annotation\")], axis=1)\n",
    "df_cls = pd.concat([df_cls, spatial_cluster(res[0][:, np.argsort(res[1])[:500]], \"SCImputedTopConfident (500) vs Ground.Annotation\")], axis=1)\n",
    "df_cls = pd.concat([df_cls, spatial_cluster(res[0][:, np.argsort(res[1])[:400]], \"SCImputedTopConfident (400) vs Ground.Annotation\")], axis=1)\n",
    "df_cls = pd.concat([df_cls, spatial_cluster(res[0][:, np.argsort(res[1])[:300]], \"SCImputedTopConfident (300) vs Ground.Annotation\")], axis=1)\n",
    "df_cls = pd.concat([df_cls, spatial_cluster(res[0][:, np.argsort(res[1])[:200]], \"SCImputedTopConfident (200) vs Ground.Annotation\")], axis=1)\n",
    "df_cls = pd.concat([df_cls, spatial_cluster(res[0][:, np.argsort(res[1])[:100]], \"SCImputedTopConfident (100) vs Ground.Annotation\")], axis=1)\n",
    "df_cls = pd.concat([df_cls, spatial_cluster(res[0][:, np.argsort(res[1])[:50]], \"SCImputedTopConfident (50) vs Ground.Annotation\")], axis=1)\n",
    "df_cls"
   ]
  },
  {
   "cell_type": "code",
   "execution_count": 12,
   "metadata": {
    "tags": []
   },
   "outputs": [
    {
     "data": {
      "text/plain": [
       "SeqFISH_Raw (351) vs Ground.Annotation              0.303612\n",
       "SCImputedMarkers (422) vs Ground.Annotation         0.329237\n",
       "SCImputedAll (618) vs Ground.Annotation             0.338147\n",
       "SCImputedTopConfident (600) vs Ground.Annotation    0.338147\n",
       "SCImputedTopConfident (500) vs Ground.Annotation    0.344732\n",
       "SCImputedTopConfident (400) vs Ground.Annotation    0.340590\n",
       "SCImputedTopConfident (300) vs Ground.Annotation    0.338405\n",
       "SCImputedTopConfident (200) vs Ground.Annotation    0.336470\n",
       "SCImputedTopConfident (100) vs Ground.Annotation    0.290229\n",
       "SCImputedTopConfident (50) vs Ground.Annotation     0.271468\n",
       "dtype: float64"
      ]
     },
     "execution_count": 12,
     "metadata": {},
     "output_type": "execute_result"
    }
   ],
   "source": [
    "df_cls.mean()"
   ]
  },
  {
   "cell_type": "code",
   "execution_count": 13,
   "metadata": {
    "tags": []
   },
   "outputs": [],
   "source": [
    "df_cls.index.name = 'metric'\n",
    "df_cls.to_csv(\"../../output/segfish_cluster_with_extra_genes_top50.csv\")"
   ]
  },
  {
   "cell_type": "code",
   "execution_count": null,
   "metadata": {},
   "outputs": [],
   "source": []
  }
 ],
 "metadata": {
  "kernelspec": {
   "display_name": "Python 3 (ipykernel)",
   "language": "python",
   "name": "python3"
  },
  "language_info": {
   "codemirror_mode": {
    "name": "ipython",
    "version": 3
   },
   "file_extension": ".py",
   "mimetype": "text/x-python",
   "name": "python",
   "nbconvert_exporter": "python",
   "pygments_lexer": "ipython3",
   "version": "3.11.6"
  }
 },
 "nbformat": 4,
 "nbformat_minor": 4
}
